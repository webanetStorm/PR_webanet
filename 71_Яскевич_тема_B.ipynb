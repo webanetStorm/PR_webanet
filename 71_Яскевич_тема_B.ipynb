{
  "cells": [
    {
      "cell_type": "markdown",
      "metadata": {
        "id": "view-in-github",
        "colab_type": "text"
      },
      "source": [
        "<a href=\"https://colab.research.google.com/github/webanetStorm/PR_webanet/blob/main/71_%D0%AF%D1%81%D0%BA%D0%B5%D0%B2%D0%B8%D1%87_%D1%82%D0%B5%D0%BC%D0%B0_B.ipynb\" target=\"_parent\"><img src=\"https://colab.research.google.com/assets/colab-badge.svg\" alt=\"Open In Colab\"/></a>"
      ]
    },
    {
      "cell_type": "markdown",
      "metadata": {
        "id": "c10b76f1"
      },
      "source": [
        "# Ознакомительная практика. Тема B. 71_Яскевич"
      ],
      "id": "c10b76f1"
    },
    {
      "cell_type": "markdown",
      "metadata": {
        "id": "aef68de3"
      },
      "source": [
        "## Задание B1\n",
        "Написать функцию duplicate_encode, которая получает строку и преобразует ее:  \n",
        "если символ в строке появляется один раз, то заменить на \"(\",  \n",
        "иначе заменить на \")\", если символ появляется больше одного раза. Регистр не должен иметь значение.  \n",
        "\n",
        "Примеры:\n",
        "```python\n",
        "duplicate_encode(\"hello world\") ==> \"(()))(()()(\"\n",
        "```"
      ],
      "id": "aef68de3"
    },
    {
      "cell_type": "code",
      "execution_count": null,
      "metadata": {
        "id": "5dbf310e"
      },
      "outputs": [],
      "source": [
        "def duplicate_encode(word):\n",
        "    result = ''\n",
        "    for s in word:\n",
        "        s = s.lower()\n",
        "        if word.count(s) == 1:\n",
        "            result += '('\n",
        "        else:\n",
        "          result += ')'\n",
        "    return result;"
      ],
      "id": "5dbf310e"
    },
    {
      "cell_type": "markdown",
      "metadata": {
        "id": "ab9f4804"
      },
      "source": [
        "Тесты:"
      ],
      "id": "ab9f4804"
    },
    {
      "cell_type": "code",
      "execution_count": null,
      "metadata": {
        "colab": {
          "base_uri": "https://localhost:8080/"
        },
        "id": "3f7bf3ac",
        "outputId": "07abddfc-22bb-447c-e4e5-57a54bf95e96"
      },
      "outputs": [
        {
          "name": "stdout",
          "output_type": "stream",
          "text": [
            "TEST PASSED - ТЕСТЫ ПРОЙДЕНЫ\n"
          ]
        }
      ],
      "source": [
        "import traceback\n",
        "try:\n",
        "    assert duplicate_encode(\"hello world\") == \"(()))(()()(\"\n",
        "    assert duplicate_encode(\"abc\") == \"(((\"\n",
        "    assert duplicate_encode(\"(( @\") == \"))((\"\n",
        "    assert duplicate_encode(\"Success\") == \")())())\"\n",
        "except AssertionError:\n",
        "    print(\"TEST ERROR - ОШИБКА В ТЕСТЕ\")\n",
        "    traceback.print_exc()\n",
        "else:\n",
        "    print(\"TEST PASSED - ТЕСТЫ ПРОЙДЕНЫ\")\n",
        "\n"
      ],
      "id": "3f7bf3ac"
    },
    {
      "cell_type": "markdown",
      "metadata": {
        "id": "9ab249b9"
      },
      "source": [
        "## Задание B2\n",
        "Написать функцию high_score, которая из строки слов возвращает слово с максимальным количеством очков.  \n",
        "Очки считаются по буквам, где a = 1, b = 2, c = 3, d = 4, ...  \n",
        "\n",
        "Примеры:\n",
        "```python\n",
        "high_score(\"abc aaf\") == \"aaf\" (\"abc\"= 1+2+3 = 6, \"aaf\" = 1+1+6 = 8)\n",
        "```"
      ],
      "id": "9ab249b9"
    },
    {
      "cell_type": "code",
      "execution_count": null,
      "metadata": {
        "id": "89a6d405"
      },
      "outputs": [],
      "source": [
        "def high_score(s):\n",
        "    result_max = 0\n",
        "    result = ''\n",
        "    alphabet = 'abcdefghijklmnopqrstuvwxyz'\n",
        "    arr = s.split()\n",
        "\n",
        "    for i in arr:\n",
        "        score = 0\n",
        "        for j in i:\n",
        "            score += alphabet.find(j)\n",
        "        if score > result_max:\n",
        "            result_max = score\n",
        "            result = i\n",
        "\n",
        "    return result"
      ],
      "id": "89a6d405"
    },
    {
      "cell_type": "markdown",
      "metadata": {
        "id": "58286b06"
      },
      "source": [
        "Тесты:"
      ],
      "id": "58286b06"
    },
    {
      "cell_type": "code",
      "execution_count": null,
      "metadata": {
        "colab": {
          "base_uri": "https://localhost:8080/"
        },
        "id": "b754f45e",
        "outputId": "a1ce3d9d-8da9-4786-b2a9-3624f0790aa6"
      },
      "outputs": [
        {
          "name": "stdout",
          "output_type": "stream",
          "text": [
            "TEST PASSED - ТЕСТЫ ПРОЙДЕНЫ\n"
          ]
        }
      ],
      "source": [
        "import traceback\n",
        "try:\n",
        "    assert high_score('abcd ef') == 'ef'\n",
        "    assert high_score('what time are we climbing up the volcano') == 'volcano'\n",
        "    assert high_score('zcfjyj ivsrnnelok gfuckq puhid xxituwu lzs bbzkyb kqvg kmfvfg') == 'xxituwu'\n",
        "    assert high_score('qjfxvxb pgtkr dhojthinm dyr cjne') == 'qjfxvxb'\n",
        "except AssertionError:\n",
        "    print(\"TEST ERROR - ОШИБКА В ТЕСТЕ\")\n",
        "    traceback.print_exc()\n",
        "else:\n",
        "    print(\"TEST PASSED - ТЕСТЫ ПРОЙДЕНЫ\")"
      ],
      "id": "b754f45e"
    },
    {
      "cell_type": "markdown",
      "metadata": {
        "id": "650d02fe"
      },
      "source": [
        "## Задание B3\n",
        "Написать функцию spin_words, которая возвращает заданную строку,  \n",
        "но переворачивает в обратном порядке все слова, состоящие из 5 или более букв  \n",
        "\n",
        "Примеры:\n",
        "```python\n",
        "spin_words(\"This is a test\") ==> \"This is a test\"\n",
        "spin_words(\"This is another test\" ) ==> \"This is rehtona test\"\n",
        "```"
      ],
      "id": "650d02fe"
    },
    {
      "cell_type": "code",
      "execution_count": null,
      "metadata": {
        "id": "7b3d300d"
      },
      "outputs": [],
      "source": [
        "def spin_words(sentence):\n",
        "    arr = sentence.split()\n",
        "\n",
        "    for i in range(len(arr)):\n",
        "        if len(arr[i]) >= 5:\n",
        "            arr[i] = arr[i][::-1]\n",
        "\n",
        "    return ' '.join(arr)"
      ],
      "id": "7b3d300d"
    },
    {
      "cell_type": "markdown",
      "metadata": {
        "id": "37264e13"
      },
      "source": [
        "Тесты:"
      ],
      "id": "37264e13"
    },
    {
      "cell_type": "code",
      "execution_count": null,
      "metadata": {
        "colab": {
          "base_uri": "https://localhost:8080/"
        },
        "id": "a888ccb3",
        "outputId": "3a3fb0b2-b958-438b-9d98-957eb3fad7de"
      },
      "outputs": [
        {
          "name": "stdout",
          "output_type": "stream",
          "text": [
            "TEST PASSED - ТЕСТЫ ПРОЙДЕНЫ\n"
          ]
        }
      ],
      "source": [
        "import traceback\n",
        "try:\n",
        "    assert spin_words(\"This is a test\") == \"This is a test\"\n",
        "    assert spin_words(\"notsuoH we have a melborp\") == \"Houston we have a problem\"\n",
        "    assert spin_words(\"Elementary my dear Watson\") == \"yratnemelE my dear nostaW\"\n",
        "    assert spin_words(\"Run tserroF run\") == \"Run Forrest run\"\n",
        "except AssertionError:\n",
        "    print(\"TEST ERROR - ОШИБКА В ТЕСТЕ\")\n",
        "    traceback.print_exc()\n",
        "else:\n",
        "    print(\"TEST PASSED - ТЕСТЫ ПРОЙДЕНЫ\")\n"
      ],
      "id": "a888ccb3"
    },
    {
      "cell_type": "markdown",
      "metadata": {
        "id": "443cfea9"
      },
      "source": [
        "## Задание B4\n"
      ],
      "id": "443cfea9"
    },
    {
      "cell_type": "code",
      "execution_count": null,
      "metadata": {
        "colab": {
          "base_uri": "https://localhost:8080/"
        },
        "id": "0ed24358",
        "outputId": "aed8d5df-9ebc-467e-cd77-18f3553b8884"
      },
      "outputs": [
        {
          "output_type": "stream",
          "name": "stdout",
          "text": [
            "1 place --- the --- 109 times\n",
            "2 place --- of --- 74 times\n",
            "3 place --- and --- 35 times\n",
            "4 place --- in --- 34 times\n",
            "5 place --- dubna --- 32 times\n",
            "6 place --- a --- 26 times\n",
            "7 place --- to --- 22 times\n",
            "8 place --- was --- 21 times\n",
            "9 place --- town --- 19 times\n",
            "10 place --- moscow --- 17 times\n"
          ]
        }
      ],
      "source": [
        "def wiki_function():\n",
        "    alphabet = 'abcdefghijklmnopqrstuvwxyz '\n",
        "\n",
        "    with open('wiki.txt') as file:\n",
        "        lines = [line.strip() for line in file if line.strip()]\n",
        "\n",
        "    filtered_lines = []\n",
        "    for line in lines:\n",
        "        filtered_line = ''.join([char for char in line if char.lower() in alphabet])\n",
        "        filtered_lines.append(filtered_line)\n",
        "    combined_text = ' '.join(filtered_lines)\n",
        "\n",
        "    words = combined_text.lower().split()\n",
        "    word_count = {}\n",
        "\n",
        "    for word in words:\n",
        "        word_count[word] = words.count(word)\n",
        "\n",
        "    word_count = {i: word_count[i] for i in sorted(word_count, key=word_count.get, reverse=True)}\n",
        "\n",
        "    most_common_words = sorted(word_count.items(), key=lambda item: item[1], reverse=True)[:10]\n",
        "    i = 1\n",
        "    for item in most_common_words:\n",
        "        print(f'{i} place --- {item[0]} --- {item[1]} times')\n",
        "        i += 1\n",
        "\n",
        "    for word, _ in most_common_words:\n",
        "        combined_text = combined_text.replace(f' {word} ', ' PYTHON ')\n",
        "\n",
        "    text_arr = combined_text.split()\n",
        "    with open('wiki_new.txt', 'w') as file:\n",
        "        line = []\n",
        "        line_str = ''\n",
        "        for i in range(len(text_arr)):\n",
        "            line.append(text_arr[i])\n",
        "            line_str = ' '.join(line)\n",
        "            if len(line_str) >= 100:\n",
        "                line_last = line[-1]\n",
        "                del line[-1]\n",
        "                line_str = ' '.join(line)\n",
        "                file.write(line_str + '\\n')\n",
        "                line = [line_last]\n",
        "            else:\n",
        "                continue\n",
        "        file.write(line_str + '\\n')\n",
        "\n",
        "\n",
        "wiki_function()"
      ],
      "id": "0ed24358"
    }
  ],
  "metadata": {
    "colab": {
      "provenance": [],
      "include_colab_link": true
    },
    "kernelspec": {
      "display_name": "Python 3",
      "name": "python3"
    },
    "language_info": {
      "name": "python"
    }
  },
  "nbformat": 4,
  "nbformat_minor": 5
}