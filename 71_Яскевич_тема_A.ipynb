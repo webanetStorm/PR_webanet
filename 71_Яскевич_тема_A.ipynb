{
  "cells": [
    {
      "cell_type": "markdown",
      "metadata": {
        "id": "view-in-github",
        "colab_type": "text"
      },
      "source": [
        "<a href=\"https://colab.research.google.com/github/webanetStorm/PR_webanet/blob/main/71_%D0%AF%D1%81%D0%BA%D0%B5%D0%B2%D0%B8%D1%87_%D1%82%D0%B5%D0%BC%D0%B0_A.ipynb\" target=\"_parent\"><img src=\"https://colab.research.google.com/assets/colab-badge.svg\" alt=\"Open In Colab\"/></a>"
      ]
    },
    {
      "cell_type": "markdown",
      "id": "4ec1b299",
      "metadata": {
        "id": "4ec1b299"
      },
      "source": [
        "# Ознакомительная практика. Тема A. 71_Яскевич"
      ]
    },
    {
      "cell_type": "markdown",
      "id": "0e67f7b7",
      "metadata": {
        "id": "0e67f7b7"
      },
      "source": [
        "## Задание A1\n",
        "Написать функцию strong_number(number), которая определяет является ли число сильным.  \n",
        "Число сильное, если сумма факториалов цифр числа равна самому числу.  \n",
        "\n",
        "Примеры:\n",
        "```python\n",
        "strong_number(145) => True -> 1! + 4! + 5! = 1 + 24 + 120 = 145\n",
        "```"
      ]
    },
    {
      "cell_type": "code",
      "execution_count": null,
      "id": "512e2206",
      "metadata": {
        "id": "512e2206"
      },
      "outputs": [],
      "source": [
        "from math import *\n",
        "\n",
        "def strong_number(number):\n",
        "    result = 0\n",
        "    number_str = str(number)\n",
        "\n",
        "    for i in number_str:\n",
        "        result += factorial(int(i))\n",
        "\n",
        "    return result == number"
      ]
    },
    {
      "cell_type": "markdown",
      "id": "d2bf243f",
      "metadata": {
        "id": "d2bf243f"
      },
      "source": [
        "Тесты:"
      ]
    },
    {
      "cell_type": "code",
      "execution_count": null,
      "id": "4c1f325e",
      "metadata": {
        "colab": {
          "base_uri": "https://localhost:8080/"
        },
        "id": "4c1f325e",
        "outputId": "b79057e4-04cd-4b2d-8e01-8ea3134d21d5"
      },
      "outputs": [
        {
          "output_type": "stream",
          "name": "stdout",
          "text": [
            "TEST PASSED - ТЕСТЫ ПРОЙДЕНЫ\n"
          ]
        }
      ],
      "source": [
        "import traceback\n",
        "try:\n",
        "    assert strong_number(1) == True\n",
        "    assert strong_number(2) == True\n",
        "    assert strong_number(7) == False\n",
        "    assert strong_number(93) == False\n",
        "    assert strong_number(145) ==  True\n",
        "except AssertionError:\n",
        "    print(\"TEST ERROR - ОШИБКА В ТЕСТЕ\")\n",
        "    traceback.print_exc()\n",
        "else:\n",
        "    print(\"TEST PASSED - ТЕСТЫ ПРОЙДЕНЫ\")"
      ]
    },
    {
      "cell_type": "markdown",
      "id": "c67e26c4",
      "metadata": {
        "id": "c67e26c4"
      },
      "source": [
        "## Задание A2\n",
        "Задан список положительных чисел arr и положительное число k.  \n",
        "Написать функцию int_diff, которая определяет сколько раз  \n",
        "разница между двумя различными числами из списка равна k  \n",
        "\n",
        "Пример:\n",
        "```python\n",
        "int_diff([2, 2, 7, 8, 12, 16, 27], 5) ==> 3 ([2, 7], [2, 7], [7, 12])\n",
        "```"
      ]
    },
    {
      "cell_type": "code",
      "execution_count": null,
      "id": "e2f7af9a",
      "metadata": {
        "id": "e2f7af9a"
      },
      "outputs": [],
      "source": [
        "def int_diff(arr, k):\n",
        "    result = 0\n",
        "\n",
        "    for i in range(len(arr)):\n",
        "        for j in range(i + 1, len(arr)):\n",
        "            if abs(arr[i] - arr[j]) == k:\n",
        "                result += 1\n",
        "\n",
        "    return result"
      ]
    },
    {
      "cell_type": "markdown",
      "id": "35e841a5",
      "metadata": {
        "id": "35e841a5"
      },
      "source": [
        "Тесты:"
      ]
    },
    {
      "cell_type": "code",
      "execution_count": null,
      "id": "83aaf1f3",
      "metadata": {
        "colab": {
          "base_uri": "https://localhost:8080/"
        },
        "id": "83aaf1f3",
        "outputId": "1d42d0e4-f253-40ee-d3b4-af38e0685e1b"
      },
      "outputs": [
        {
          "output_type": "stream",
          "name": "stdout",
          "text": [
            "TEST PASSED - ТЕСТЫ ПРОЙДЕНЫ\n"
          ]
        }
      ],
      "source": [
        "import traceback\n",
        "try:\n",
        "    assert int_diff([1, 1, 5, 6, 9, 16, 27], 4) == 3\n",
        "    assert int_diff([1, 1, 3, 3], 2) == 4\n",
        "except AssertionError:\n",
        "    print(\"TEST ERROR - ОШИБКА В ТЕСТЕ\")\n",
        "    traceback.print_exc()\n",
        "else:\n",
        "    print(\"TEST PASSED - ТЕСТЫ ПРОЙДЕНЫ\")"
      ]
    },
    {
      "cell_type": "markdown",
      "id": "156473f5",
      "metadata": {
        "id": "156473f5"
      },
      "source": [
        "## Задание A3\n",
        "В старину почту доставляли гонцы на лошадях. Между городами находились почтовые станции,  \n",
        "где можно было поменять лошадь или передать пакет следующему гонцу.  \n",
        "Задан список расстояний от одной станции до другой.  \n",
        "Написать функцию riders, которая определяет сколько гонцов будут участвовать  \n",
        "в доставке почты, если каждый путешествует так далеко, как только может, но не более 100 км."
      ]
    },
    {
      "cell_type": "code",
      "execution_count": null,
      "id": "b12b0f6c",
      "metadata": {
        "id": "b12b0f6c"
      },
      "outputs": [],
      "source": [
        "def riders(stations):\n",
        "    result = 1\n",
        "    s = 0\n",
        "\n",
        "    for i in stations:\n",
        "        s += i\n",
        "        if s > 100:\n",
        "            s = 0\n",
        "            result += 1\n",
        "\n",
        "    return result"
      ]
    },
    {
      "cell_type": "markdown",
      "id": "a5e16f27",
      "metadata": {
        "id": "a5e16f27"
      },
      "source": [
        "Тесты:"
      ]
    },
    {
      "cell_type": "code",
      "execution_count": null,
      "id": "08147ea7",
      "metadata": {
        "colab": {
          "base_uri": "https://localhost:8080/"
        },
        "id": "08147ea7",
        "outputId": "9c85c4ef-50f3-42e1-9c75-fe27c955c87c"
      },
      "outputs": [
        {
          "output_type": "stream",
          "name": "stdout",
          "text": [
            "TEST PASSED - ТЕСТЫ ПРОЙДЕНЫ\n"
          ]
        }
      ],
      "source": [
        "import traceback\n",
        "try:\n",
        "    assert riders([18, 15]) == 1\n",
        "    assert riders([43, 23, 40, 13]) == 2\n",
        "    assert riders([33, 8, 16, 47, 30, 30, 46]) == 3\n",
        "    assert riders([6, 24, 6, 8, 28, 8, 23, 47, 17, 29, 37, 18, 40, 49]) == 4\n",
        "except AssertionError:\n",
        "    print(\"TEST ERROR - ОШИБКА В ТЕСТЕ\")\n",
        "    traceback.print_exc()\n",
        "else:\n",
        "    print(\"TEST PASSED - ТЕСТЫ ПРОЙДЕНЫ\")\n"
      ]
    },
    {
      "cell_type": "markdown",
      "id": "4ea4ad03",
      "metadata": {
        "id": "4ea4ad03"
      },
      "source": [
        "## Задание A4\n",
        "Написать функцию backwardsPrime(start, stop), которая возвращает список  \n",
        "всех простых в обоих направлениях чисел (являются простыми и перевернутое\n",
        "число также простое, например 13 и 31, 17 и 71), которые находятся между двумя\n",
        "```python\n",
        "заданными числами start и stop\n",
        "\n",
        "Примеры:\n",
        "backwardsPrime(2, 100) => [13, 17, 31, 37, 71, 73, 79, 97]\n",
        "```"
      ]
    },
    {
      "cell_type": "code",
      "execution_count": null,
      "id": "6e316005",
      "metadata": {
        "id": "6e316005"
      },
      "outputs": [],
      "source": [
        "def isPrime(number):\n",
        "    return all(number % i != 0 for i in range(2, number // 2 + 1))\n",
        "\n",
        "\n",
        "def backwardsPrime(start, stop):\n",
        "    result = []\n",
        "\n",
        "    for i in range(start, stop + 1):\n",
        "        num_reverse = int(str(i)[::-1])\n",
        "        if isPrime(i) and isPrime(num_reverse) and i > 1 and num_reverse != i:\n",
        "            result.append(i)\n",
        "\n",
        "    return result"
      ]
    },
    {
      "cell_type": "markdown",
      "id": "f9419713",
      "metadata": {
        "id": "f9419713"
      },
      "source": [
        "Тесты:"
      ]
    },
    {
      "cell_type": "code",
      "execution_count": null,
      "id": "270ca94f",
      "metadata": {
        "colab": {
          "base_uri": "https://localhost:8080/"
        },
        "id": "270ca94f",
        "outputId": "470f4006-240f-4647-8125-72b11b57d06b"
      },
      "outputs": [
        {
          "output_type": "stream",
          "name": "stdout",
          "text": [
            "TEST PASSED - ТЕСТЫ ПРОЙДЕНЫ\n"
          ]
        }
      ],
      "source": [
        "import traceback\n",
        "try:\n",
        "    assert backwardsPrime(9900, 10000) == [9923, 9931, 9941, 9967]\n",
        "    assert backwardsPrime(2, 100) == [13, 17, 31, 37, 71, 73, 79, 97]\n",
        "    assert backwardsPrime(501, 599) == []\n",
        "except AssertionError:\n",
        "    print(\"TEST ERROR - ОШИБКА В ТЕСТЕ\")\n",
        "    traceback.print_exc()\n",
        "else:\n",
        "    print(\"TEST PASSED - ТЕСТЫ ПРОЙДЕНЫ\")\n"
      ]
    },
    {
      "cell_type": "markdown",
      "id": "36b93cc7",
      "metadata": {
        "id": "36b93cc7"
      },
      "source": [
        "## Задание A5\n",
        "Создать список (библиотека книг), состоящий из словарей (книги). Словари должны содержать как минимум 5 полей\n",
        "(например, номер, название, год издания...). В список добавить хотя бы 10 словарей.\n",
        "```python\n",
        "Конструкция вида:\n",
        "library = [{\"id\" : 123456, \"title\" : \"Война и мир\", \"author\" : \"Толстой\",...} , {...}, {...}, ...]\n",
        "Реализовать функции:\n",
        "– вывода информации о всех книгах;\n",
        "– вывода информации о книге по введенному с клавиатуры номеру;\n",
        "– вывода количества книг, старше введённого года;\n",
        "– обновлении всей информации о книге по введенному номеру;\n",
        "– удалении книги по номеру.\n",
        "```"
      ]
    },
    {
      "cell_type": "code",
      "execution_count": null,
      "id": "576f00d6",
      "metadata": {
        "colab": {
          "base_uri": "https://localhost:8080/"
        },
        "id": "576f00d6",
        "outputId": "2413a82b-13fd-4ec2-8275-4f3cb3b4aace"
      },
      "outputs": [
        {
          "output_type": "stream",
          "name": "stdout",
          "text": [
            "2\n",
            "Введите новое название: НАЗВАНИЕ\n",
            "Введите нового автора: АВТОР\n",
            "Введите новый год издания: 23\n",
            "Введите новое количество книг: 3\n",
            "Информация о книге с ID 2 успешно обновлена.\n",
            "ID: 1 \n",
            "Название: Война и мир \n",
            "Автор: Толстой \n",
            "Год издания: 1865 \n",
            "Кол-во книг в библиотеке: 8 \n",
            "\n",
            "ID: 2 \n",
            "Название: НАЗВАНИЕ \n",
            "Автор: АВТОР \n",
            "Год издания: 23 \n",
            "Кол-во книг в библиотеке: 3 \n",
            "\n",
            "ID: 3 \n",
            "Название: Мертвые души \n",
            "Автор: Гоголь \n",
            "Год издания: 1842 \n",
            "Кол-во книг в библиотеке: 3 \n",
            "\n",
            "ID: 4 \n",
            "Название: Ревизор \n",
            "Автор: Гоголь \n",
            "Год издания: 1835 \n",
            "Кол-во книг в библиотеке: 4 \n",
            "\n",
            "ID: 5 \n",
            "Название: Шинель \n",
            "Автор: Гоголь \n",
            "Год издания: 1841 \n",
            "Кол-во книг в библиотеке: 7 \n",
            "\n",
            "ID: 6 \n",
            "Название: Мастер и Маргарита \n",
            "Автор: Булгаков \n",
            "Год издания: 1866 \n",
            "Кол-во книг в библиотеке: 10 \n",
            "\n",
            "ID: 7 \n",
            "Название: Тихий Дон \n",
            "Автор: Шолохов \n",
            "Год издания: 1928 \n",
            "Кол-во книг в библиотеке: 8 \n",
            "\n",
            "ID: 8 \n",
            "Название: Судьба человека \n",
            "Автор: Шолохов \n",
            "Год издания: 1956 \n",
            "Кол-во книг в библиотеке: 9 \n",
            "\n",
            "ID: 9 \n",
            "Название: Отцы и дети \n",
            "Автор: Тургенев \n",
            "Год издания: 1862 \n",
            "Кол-во книг в библиотеке: 3 \n",
            "\n",
            "ID: 10 \n",
            "Название: Капитанская дочка \n",
            "Автор: Пушкин \n",
            "Год издания: 1836 \n",
            "Кол-во книг в библиотеке: 14 \n",
            "\n"
          ]
        }
      ],
      "source": [
        "library = [\n",
        "    {\"id\": 1, \"title\": \"Война и мир\", \"author\": \"Толстой\", \"year\": 1865, \"num_books\": 8},\n",
        "    {\"id\": 2, \"title\": \"Горе от ума\", \"author\": \"Грибоедов\", \"year\": 1825, \"num_books\": 1},\n",
        "    {\"id\": 3, \"title\": \"Мертвые души\", \"author\": \"Гоголь\", \"year\": 1842, \"num_books\": 3},\n",
        "    {\"id\": 4, \"title\": \"Ревизор\", \"author\": \"Гоголь\", \"year\": 1835, \"num_books\": 4},\n",
        "    {\"id\": 5, \"title\": \"Шинель\", \"author\": \"Гоголь\", \"year\": 1841, \"num_books\": 7},\n",
        "    {\"id\": 6, \"title\": \"Мастер и Маргарита\", \"author\": \"Булгаков\", \"year\": 1866, \"num_books\": 10},\n",
        "    {\"id\": 7, \"title\": \"Тихий Дон\", \"author\": \"Шолохов\", \"year\": 1928, \"num_books\": 8},\n",
        "    {\"id\": 8, \"title\": \"Судьба человека\", \"author\": \"Шолохов\", \"year\": 1956, \"num_books\": 9},\n",
        "    {\"id\": 9, \"title\": \"Отцы и дети\", \"author\": \"Тургенев\", \"year\": 1862, \"num_books\": 3},\n",
        "    {\"id\": 10, \"title\": \"Капитанская дочка\", \"author\": \"Пушкин\", \"year\": 1836, \"num_books\": 14}\n",
        "]\n",
        "\n",
        "\n",
        "def display(library):\n",
        "    for book in library:\n",
        "        print('ID:', book['id'], '\\nНазвание:', book['title'], '\\nАвтор:', book['author'], '\\nГод издания:', book['year'], '\\nКол-во книг в библиотеке:', book['num_books'], '\\n')\n",
        "\n",
        "def info(library):\n",
        "    id = int(input())\n",
        "    for book in library:\n",
        "        if book['id'] == id:\n",
        "            print('Название:', book['title'], '\\nАвтор:', book['author'], '\\nГод издания:', book['year'], '\\nКол-во книг в библиотеке:', book['num_books'])\n",
        "            break\n",
        "\n",
        "def count(library):\n",
        "    year = int(input())\n",
        "    return sum(1 for arr in library if arr['year'] < year)\n",
        "\n",
        "def delete(library):\n",
        "    id = int(input())\n",
        "    for i in range(len(library)):\n",
        "        if library[i]['id'] == id:\n",
        "            library.pop(i)\n",
        "            break\n",
        "\n",
        "def update(library):\n",
        "    id = int(input())\n",
        "    for book in library:\n",
        "        if book['id'] == id:\n",
        "            book['title'] = input(\"Введите новое название: \")\n",
        "            book['author'] = input(\"Введите нового автора: \")\n",
        "            book['year'] = int(input(\"Введите новый год издания: \"))\n",
        "            book['num_books'] = int(input(\"Введите новое количество книг: \"))\n",
        "\n",
        "            print(f\"Информация о книге с ID {id} успешно обновлена.\")\n",
        "            return\n",
        "\n",
        "    print(f\"Книга с ID {id} не найдена.\\n\")\n",
        "\n",
        "\n",
        "# display(library)\n",
        "\n",
        "# info(library)\n",
        "\n",
        "# count(library)\n",
        "\n",
        "# delete(library)\n",
        "# display(library)\n",
        "\n",
        "# update(library)\n",
        "# display(library)"
      ]
    },
    {
      "cell_type": "markdown",
      "id": "00e9ca88",
      "metadata": {
        "id": "00e9ca88"
      },
      "source": [
        "Тесты:"
      ]
    },
    {
      "cell_type": "code",
      "execution_count": null,
      "id": "4b893b28",
      "metadata": {
        "colab": {
          "base_uri": "https://localhost:8080/",
          "height": 211
        },
        "id": "4b893b28",
        "outputId": "26943dcc-bab2-48bf-a2e7-e722a5d2e1ee"
      },
      "outputs": [
        {
          "output_type": "error",
          "ename": "NameError",
          "evalue": "name 'dislpay' is not defined",
          "traceback": [
            "\u001b[0;31m---------------------------------------------------------------------------\u001b[0m",
            "\u001b[0;31mNameError\u001b[0m                                 Traceback (most recent call last)",
            "\u001b[0;32m<ipython-input-91-faf8e16bc408>\u001b[0m in \u001b[0;36m<cell line: 16>\u001b[0;34m()\u001b[0m\n\u001b[1;32m     14\u001b[0m ]\n\u001b[1;32m     15\u001b[0m \u001b[0;34m\u001b[0m\u001b[0m\n\u001b[0;32m---> 16\u001b[0;31m \u001b[0mdislpay\u001b[0m\u001b[0;34m(\u001b[0m\u001b[0mlibrary\u001b[0m\u001b[0;34m)\u001b[0m\u001b[0;34m\u001b[0m\u001b[0;34m\u001b[0m\u001b[0m\n\u001b[0m\u001b[1;32m     17\u001b[0m \u001b[0minfo\u001b[0m\u001b[0;34m(\u001b[0m\u001b[0mlibrary\u001b[0m\u001b[0;34m)\u001b[0m\u001b[0;34m\u001b[0m\u001b[0;34m\u001b[0m\u001b[0m\n\u001b[1;32m     18\u001b[0m \u001b[0mcount\u001b[0m\u001b[0;34m(\u001b[0m\u001b[0mlibrary\u001b[0m\u001b[0;34m)\u001b[0m\u001b[0;34m\u001b[0m\u001b[0;34m\u001b[0m\u001b[0m\n",
            "\u001b[0;31mNameError\u001b[0m: name 'dislpay' is not defined"
          ]
        }
      ],
      "source": []
    }
  ],
  "metadata": {
    "colab": {
      "provenance": [],
      "include_colab_link": true
    },
    "language_info": {
      "name": "python"
    },
    "kernelspec": {
      "name": "python3",
      "display_name": "Python 3"
    }
  },
  "nbformat": 4,
  "nbformat_minor": 5
}